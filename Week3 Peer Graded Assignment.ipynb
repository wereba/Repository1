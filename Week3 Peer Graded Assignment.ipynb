{
  "cells": [
    {
      "cell_type": "markdown",
      "metadata": {
        "id": "SOT38kd8aEDP"
      },
      "source": [
        "<center>\n",
        "    <img src=\"https://s3-api.us-geo.objectstorage.softlayer.net/cf-courses-data/CognitiveClass/Logos/organization_logo/organization_logo.png\" width=\"300\" alt=\"cognitiveclass.ai logo\"  />\n",
        "</center>\n"
      ]
    },
    {
      "cell_type": "markdown",
      "metadata": {
        "id": "GpN2A6pRaEDV"
      },
      "source": [
        "#### Add your code below following the instructions given in the course\n"
      ]
    },
    {
      "cell_type": "markdown",
      "source": [
        "# My Jupyter Notebook on IBM Watson Studio"
      ],
      "metadata": {
        "id": "zphjeSQrbBWU"
      }
    },
    {
      "cell_type": "markdown",
      "source": [
        "**WEREBA SAMUEL**\n",
        "\n",
        "DATA ANALYST"
      ],
      "metadata": {
        "id": "ZP7gakWFbH8a"
      }
    },
    {
      "cell_type": "markdown",
      "source": [
        "*I am interested in data science because It will help me make sense of data for purposes of decision making in my business and other facets of life*"
      ],
      "metadata": {
        "id": "vJCdyHegbVZd"
      }
    },
    {
      "cell_type": "markdown",
      "source": [
        "### The code below adds 1 + 1"
      ],
      "metadata": {
        "id": "50p2UDCTbpFK"
      }
    },
    {
      "cell_type": "code",
      "source": [
        "print(1+1)"
      ],
      "metadata": {
        "colab": {
          "base_uri": "https://localhost:8080/"
        },
        "id": "v4AFWvU6cAN-",
        "outputId": "864f65e3-417d-4934-f18f-06d41e574acc"
      },
      "execution_count": 6,
      "outputs": [
        {
          "output_type": "stream",
          "name": "stdout",
          "text": [
            "2\n"
          ]
        }
      ]
    },
    {
      "cell_type": "markdown",
      "source": [
        "Names:\n",
        "1.   Samuel\n",
        "2.   Wereba\n",
        "\n",
        "Course:\n",
        "*   Data Science\n",
        "*   Machine Learning\n",
        "\n",
        "Website:\n",
        "\n",
        "[https://samuelwereba.com]\n",
        "\n",
        "\n",
        "\n",
        "\n"
      ],
      "metadata": {
        "id": "kD9JKw9ecJxb"
      }
    }
  ],
  "metadata": {
    "kernelspec": {
      "display_name": "Python 3",
      "language": "python",
      "name": "python3"
    },
    "language_info": {
      "codemirror_mode": {
        "name": "ipython",
        "version": 3
      },
      "file_extension": ".py",
      "mimetype": "text/x-python",
      "name": "python",
      "nbconvert_exporter": "python",
      "pygments_lexer": "ipython3",
      "version": "3.7.6"
    },
    "colab": {
      "provenance": [],
      "collapsed_sections": []
    }
  },
  "nbformat": 4,
  "nbformat_minor": 0
}